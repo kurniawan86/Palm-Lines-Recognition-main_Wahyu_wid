{
 "cells": [
  {
   "cell_type": "code",
   "execution_count": 1,
   "metadata": {
    "ExecuteTime": {
     "end_time": "2023-07-21T07:48:16.150309100Z",
     "start_time": "2023-07-21T07:48:11.379364800Z"
    }
   },
   "outputs": [],
   "source": [
    "import os\n",
    "\n",
    "from keras.preprocessing.image import ImageDataGenerator\n",
    "from keras.models import Sequential\n",
    "from keras.layers import Conv2D, MaxPool2D, BatchNormalization\n",
    "from keras.layers import Activation, Dropout, Flatten, Dense\n",
    "\n",
    "from keras import backend as K"
   ]
  },
  {
   "attachments": {},
   "cell_type": "markdown",
   "metadata": {},
   "source": [
    "### Konfigurasi Parameter"
   ]
  },
  {
   "cell_type": "code",
   "execution_count": 2,
   "metadata": {
    "ExecuteTime": {
     "end_time": "2023-07-21T07:49:03.458893600Z",
     "start_time": "2023-07-21T07:49:03.450915600Z"
    }
   },
   "outputs": [],
   "source": [
    "img_width, img_height = 224, 224\n",
    "\n",
    "train_data_dir = 'dataset/train/'\n",
    "# valid_data_dir = 'dataset/valid/'\n",
    "\n",
    "epochs = 100\n",
    "batch_size = 4"
   ]
  },
  {
   "attachments": {},
   "cell_type": "markdown",
   "metadata": {},
   "source": [
    "### LOAD DATASET"
   ]
  },
  {
   "cell_type": "code",
   "execution_count": 3,
   "metadata": {
    "ExecuteTime": {
     "end_time": "2023-07-21T07:49:11.280838700Z",
     "start_time": "2023-07-21T07:49:11.271858700Z"
    }
   },
   "outputs": [],
   "source": [
    "# Mendapatkan Banyaknya Jumlah Class\n",
    "\n",
    "dirs_train = os.listdir(train_data_dir)\n",
    "# dirs_valid = os.listdir(valid_data_dir)\n",
    "\n",
    "# if len(dirs_train) != len(dirs_valid):\n",
    "#     print('Jumlah Class tidak sama !')\n",
    "#     classes_number = -1\n",
    "# else:\n",
    "#     classes_number = len(dirs_train)\n",
    "classes_number = len(dirs_train)"
   ]
  },
  {
   "cell_type": "code",
   "execution_count": 5,
   "metadata": {
    "ExecuteTime": {
     "end_time": "2023-07-21T07:49:24.476897900Z",
     "start_time": "2023-07-21T07:49:24.462935400Z"
    }
   },
   "outputs": [
    {
     "name": "stdout",
     "output_type": "stream",
     "text": [
      "['allan', 'faiz', 'ilyas', 'indah', 'mitha', 'naufal', 'sando', 'syifa', 'tasya', 'victor']\n"
     ]
    }
   ],
   "source": [
    "classes_number\n",
    "print(dirs_train)"
   ]
  },
  {
   "cell_type": "code",
   "execution_count": 6,
   "metadata": {
    "ExecuteTime": {
     "end_time": "2023-07-21T07:49:33.097715700Z",
     "start_time": "2023-07-21T07:49:33.076772500Z"
    }
   },
   "outputs": [],
   "source": [
    "# Menghitung Jumlah Gambar pada Dataset Train\n",
    "\n",
    "nb_train_sample = 0\n",
    "\n",
    "for clz in dirs_train:\n",
    "    path_class = train_data_dir + \"/\" + clz\n",
    "\n",
    "    n_img = len(os.listdir(path_class))\n",
    "\n",
    "    nb_train_sample += n_img\n",
    "\n",
    "train_batch = nb_train_sample / batch_size"
   ]
  },
  {
   "cell_type": "code",
   "execution_count": 8,
   "metadata": {},
   "outputs": [],
   "source": [
    "# # Menghitung Jumlah Gambar pada Dataset Valid\n",
    "\n",
    "# nb_valid_sample = 0\n",
    "\n",
    "# for clz in dirs_valid:\n",
    "#     path_class = valid_data_dir + \"/\" + clz\n",
    "\n",
    "#     n_img = len(os.listdir(path_class))\n",
    "\n",
    "#     nb_valid_sample += n_img\n",
    "\n",
    "# valid_batch = nb_valid_sample / batch_size"
   ]
  },
  {
   "attachments": {},
   "cell_type": "markdown",
   "metadata": {},
   "source": [
    "### Buat Arsitektur CNN"
   ]
  },
  {
   "cell_type": "code",
   "execution_count": 7,
   "metadata": {
    "ExecuteTime": {
     "end_time": "2023-07-21T07:49:44.458391600Z",
     "start_time": "2023-07-21T07:49:44.442489700Z"
    }
   },
   "outputs": [],
   "source": [
    "def create_model(input_shape):\n",
    "    # Initial Aristektur\n",
    "    model = Sequential([\n",
    "        Conv2D(filters=96, kernel_size=(11,11), strides=(4, 4), input_shape=input_shape),\n",
    "        Activation('relu'),\n",
    "        BatchNormalization(),\n",
    "        MaxPool2D(pool_size=(3,3), strides=(2,2)),\n",
    "        Conv2D(filters=256, kernel_size=(5,5), strides=(1,1), padding=\"same\"),\n",
    "        Activation('relu'),\n",
    "        BatchNormalization(),\n",
    "        MaxPool2D(pool_size=(3,3), strides=(2,2)),\n",
    "        Conv2D(filters=384, kernel_size=(3,3), strides=(1,1), padding=\"same\"),\n",
    "        Activation('relu'),\n",
    "        BatchNormalization(),\n",
    "        Conv2D(filters=384, kernel_size=(3,3), strides=(1,1), padding=\"same\"),\n",
    "        Activation('relu'),\n",
    "        BatchNormalization(),\n",
    "        Conv2D(filters=256, kernel_size=(3,3), strides=(1,1), padding=\"same\"),\n",
    "        Activation('relu'),\n",
    "        BatchNormalization(),\n",
    "        MaxPool2D(pool_size=(3,3), strides=(2,2)),\n",
    "        Flatten(),\n",
    "        Dense(4096, activation='relu'),\n",
    "        Dropout(0.5),\n",
    "        Dense(4096, activation='relu'),\n",
    "        Dropout(0.5),\n",
    "        Dense(10, activation='softmax')\n",
    "    ])\n",
    "\n",
    "    model.compile(loss='categorical_crossentropy', \n",
    "                optimizer='adam', metrics=['accuracy'])\n",
    "    \n",
    "    return model"
   ]
  },
  {
   "attachments": {},
   "cell_type": "markdown",
   "metadata": {},
   "source": [
    "### Mengetahui Struktur Image\n",
    "\n",
    "(C, W, H) --> Channel First <br>\n",
    "(W, H, C) --> Channel Last"
   ]
  },
  {
   "cell_type": "code",
   "execution_count": 12,
   "metadata": {
    "ExecuteTime": {
     "end_time": "2023-07-21T07:55:41.036170900Z",
     "start_time": "2023-07-21T07:55:41.004179800Z"
    }
   },
   "outputs": [],
   "source": [
    "if K.image_data_format() == 'channels_first':\n",
    "    input_shape = (1, img_width, img_height)\n",
    "else:\n",
    "    input_shape = (img_width, img_height, 3)"
   ]
  },
  {
   "cell_type": "code",
   "execution_count": 9,
   "metadata": {
    "ExecuteTime": {
     "end_time": "2023-07-21T07:50:13.883480500Z",
     "start_time": "2023-07-21T07:50:13.863517800Z"
    }
   },
   "outputs": [
    {
     "data": {
      "text/plain": "(224, 224, 3)"
     },
     "execution_count": 9,
     "metadata": {},
     "output_type": "execute_result"
    }
   ],
   "source": [
    "input_shape"
   ]
  },
  {
   "attachments": {},
   "cell_type": "markdown",
   "metadata": {},
   "source": [
    "### Preprocessing Gambar memakai ImageDataGenerator"
   ]
  },
  {
   "cell_type": "code",
   "execution_count": 13,
   "metadata": {
    "ExecuteTime": {
     "end_time": "2023-07-21T07:55:43.795994200Z",
     "start_time": "2023-07-21T07:55:43.760049100Z"
    }
   },
   "outputs": [
    {
     "name": "stdout",
     "output_type": "stream",
     "text": [
      "Found 80 images belonging to 10 classes.\n"
     ]
    }
   ],
   "source": [
    "train_datagen = ImageDataGenerator(\n",
    "    rescale= 1. / 255.,\n",
    "    horizontal_flip= True\n",
    ")\n",
    "\n",
    "train_generator = train_datagen.flow_from_directory(\n",
    "    train_data_dir,\n",
    "    target_size=(img_width, img_height),\n",
    "    batch_size=batch_size,\n",
    "    class_mode='categorical'\n",
    ")\n",
    "\n",
    "# valid_datagen = ImageDataGenerator(\n",
    "#     rescale= 1. / 255.\n",
    "# )\n",
    "\n",
    "# valid_generator = valid_datagen.flow_from_directory(\n",
    "#     valid_data_dir,\n",
    "#     target_size=(img_width, img_height),\n",
    "#     batch_size=batch_size,\n",
    "#     class_mode='categorical'\n",
    "# )"
   ]
  },
  {
   "attachments": {},
   "cell_type": "markdown",
   "metadata": {},
   "source": [
    "### TRAINING"
   ]
  },
  {
   "cell_type": "code",
   "execution_count": 14,
   "metadata": {
    "ExecuteTime": {
     "end_time": "2023-07-21T08:30:15.913788500Z",
     "start_time": "2023-07-21T07:55:47.581146500Z"
    }
   },
   "outputs": [
    {
     "name": "stdout",
     "output_type": "stream",
     "text": [
      "Epoch 1/100\n",
      "20/20 [==============================] - 23s 1s/step - loss: 34.0765 - accuracy: 0.0875\n",
      "Epoch 2/100\n",
      "20/20 [==============================] - 23s 1s/step - loss: 17.6676 - accuracy: 0.1625\n",
      "Epoch 3/100\n",
      "20/20 [==============================] - 21s 1s/step - loss: 10.4798 - accuracy: 0.3000\n",
      "Epoch 4/100\n",
      "20/20 [==============================] - 21s 1s/step - loss: 8.3054 - accuracy: 0.3750\n",
      "Epoch 5/100\n",
      "20/20 [==============================] - 21s 1s/step - loss: 7.3253 - accuracy: 0.3125\n",
      "Epoch 6/100\n",
      "20/20 [==============================] - 21s 1s/step - loss: 4.2617 - accuracy: 0.3750\n",
      "Epoch 7/100\n",
      "20/20 [==============================] - 21s 1s/step - loss: 3.8636 - accuracy: 0.4500\n",
      "Epoch 8/100\n",
      "20/20 [==============================] - 21s 1s/step - loss: 4.0670 - accuracy: 0.5125\n",
      "Epoch 9/100\n",
      "20/20 [==============================] - 20s 1s/step - loss: 3.9811 - accuracy: 0.5250\n",
      "Epoch 10/100\n",
      "20/20 [==============================] - 21s 1s/step - loss: 3.6157 - accuracy: 0.5875\n",
      "Epoch 11/100\n",
      "20/20 [==============================] - 21s 1s/step - loss: 2.6381 - accuracy: 0.4375\n",
      "Epoch 12/100\n",
      "20/20 [==============================] - 21s 1s/step - loss: 2.3929 - accuracy: 0.5375\n",
      "Epoch 13/100\n",
      "20/20 [==============================] - 21s 1s/step - loss: 2.0860 - accuracy: 0.5750\n",
      "Epoch 14/100\n",
      "20/20 [==============================] - 20s 1s/step - loss: 2.2058 - accuracy: 0.5125\n",
      "Epoch 15/100\n",
      "20/20 [==============================] - 20s 1s/step - loss: 1.8118 - accuracy: 0.6250\n",
      "Epoch 16/100\n",
      "20/20 [==============================] - 20s 991ms/step - loss: 2.0303 - accuracy: 0.6500\n",
      "Epoch 17/100\n",
      "20/20 [==============================] - 20s 1s/step - loss: 1.5114 - accuracy: 0.6375\n",
      "Epoch 18/100\n",
      "20/20 [==============================] - 20s 994ms/step - loss: 0.9033 - accuracy: 0.7625\n",
      "Epoch 19/100\n",
      "20/20 [==============================] - 20s 1s/step - loss: 1.4158 - accuracy: 0.6875\n",
      "Epoch 20/100\n",
      "20/20 [==============================] - 21s 1s/step - loss: 2.1827 - accuracy: 0.6625\n",
      "Epoch 21/100\n",
      "20/20 [==============================] - 22s 1s/step - loss: 2.0004 - accuracy: 0.6875\n",
      "Epoch 22/100\n",
      "20/20 [==============================] - 20s 1s/step - loss: 3.2082 - accuracy: 0.5500\n",
      "Epoch 23/100\n",
      "20/20 [==============================] - 22s 1s/step - loss: 1.8684 - accuracy: 0.6750\n",
      "Epoch 24/100\n",
      "20/20 [==============================] - 21s 1s/step - loss: 3.3283 - accuracy: 0.6875\n",
      "Epoch 25/100\n",
      "20/20 [==============================] - 21s 1s/step - loss: 1.6396 - accuracy: 0.6625\n",
      "Epoch 26/100\n",
      "20/20 [==============================] - 21s 1s/step - loss: 2.7362 - accuracy: 0.5875\n",
      "Epoch 27/100\n",
      "20/20 [==============================] - 25s 1s/step - loss: 0.9819 - accuracy: 0.7250\n",
      "Epoch 28/100\n",
      "20/20 [==============================] - 25s 1s/step - loss: 1.2198 - accuracy: 0.8125\n",
      "Epoch 29/100\n",
      "20/20 [==============================] - 24s 1s/step - loss: 0.8970 - accuracy: 0.7875\n",
      "Epoch 30/100\n",
      "20/20 [==============================] - 23s 1s/step - loss: 0.7721 - accuracy: 0.8625\n",
      "Epoch 31/100\n",
      "20/20 [==============================] - 26s 1s/step - loss: 0.7796 - accuracy: 0.8125\n",
      "Epoch 32/100\n",
      "20/20 [==============================] - 22s 1s/step - loss: 1.8602 - accuracy: 0.7125\n",
      "Epoch 33/100\n",
      "20/20 [==============================] - 20s 1s/step - loss: 2.4167 - accuracy: 0.5875\n",
      "Epoch 34/100\n",
      "20/20 [==============================] - 20s 1s/step - loss: 1.4271 - accuracy: 0.7375\n",
      "Epoch 35/100\n",
      "20/20 [==============================] - 21s 1s/step - loss: 0.6807 - accuracy: 0.8250\n",
      "Epoch 36/100\n",
      "20/20 [==============================] - 20s 982ms/step - loss: 1.7580 - accuracy: 0.8500\n",
      "Epoch 37/100\n",
      "20/20 [==============================] - 20s 1s/step - loss: 1.9294 - accuracy: 0.7375\n",
      "Epoch 38/100\n",
      "20/20 [==============================] - 20s 1s/step - loss: 1.4472 - accuracy: 0.7375\n",
      "Epoch 39/100\n",
      "20/20 [==============================] - 20s 1s/step - loss: 1.1628 - accuracy: 0.7875\n",
      "Epoch 40/100\n",
      "20/20 [==============================] - 21s 1s/step - loss: 0.6402 - accuracy: 0.7750\n",
      "Epoch 41/100\n",
      "20/20 [==============================] - 21s 1s/step - loss: 1.1119 - accuracy: 0.8375\n",
      "Epoch 42/100\n",
      "20/20 [==============================] - 20s 989ms/step - loss: 1.5706 - accuracy: 0.7625\n",
      "Epoch 43/100\n",
      "20/20 [==============================] - 20s 1s/step - loss: 0.9113 - accuracy: 0.7875\n",
      "Epoch 44/100\n",
      "20/20 [==============================] - 19s 966ms/step - loss: 0.4712 - accuracy: 0.8750\n",
      "Epoch 45/100\n",
      "20/20 [==============================] - 21s 1s/step - loss: 0.8056 - accuracy: 0.8375\n",
      "Epoch 46/100\n",
      "20/20 [==============================] - 20s 1s/step - loss: 0.8132 - accuracy: 0.8750\n",
      "Epoch 47/100\n",
      "20/20 [==============================] - 20s 975ms/step - loss: 0.7422 - accuracy: 0.7875\n",
      "Epoch 48/100\n",
      "20/20 [==============================] - 20s 1s/step - loss: 0.6090 - accuracy: 0.8875\n",
      "Epoch 49/100\n",
      "20/20 [==============================] - 21s 1s/step - loss: 0.4020 - accuracy: 0.9125\n",
      "Epoch 50/100\n",
      "20/20 [==============================] - 20s 992ms/step - loss: 1.0310 - accuracy: 0.8750\n",
      "Epoch 51/100\n",
      "20/20 [==============================] - 21s 1s/step - loss: 1.4734 - accuracy: 0.7625\n",
      "Epoch 52/100\n",
      "20/20 [==============================] - 20s 995ms/step - loss: 0.9914 - accuracy: 0.8625\n",
      "Epoch 53/100\n",
      "20/20 [==============================] - 21s 1s/step - loss: 1.6872 - accuracy: 0.7625\n",
      "Epoch 54/100\n",
      "20/20 [==============================] - 21s 1s/step - loss: 0.8150 - accuracy: 0.8500\n",
      "Epoch 55/100\n",
      "20/20 [==============================] - 20s 968ms/step - loss: 0.9740 - accuracy: 0.7625\n",
      "Epoch 56/100\n",
      "20/20 [==============================] - 20s 1s/step - loss: 1.1466 - accuracy: 0.7875\n",
      "Epoch 57/100\n",
      "20/20 [==============================] - 20s 1s/step - loss: 0.8045 - accuracy: 0.8750\n",
      "Epoch 58/100\n",
      "20/20 [==============================] - 21s 1s/step - loss: 0.8265 - accuracy: 0.8500\n",
      "Epoch 59/100\n",
      "20/20 [==============================] - 21s 1s/step - loss: 1.5211 - accuracy: 0.8125\n",
      "Epoch 60/100\n",
      "20/20 [==============================] - 21s 1s/step - loss: 1.5087 - accuracy: 0.7875\n",
      "Epoch 61/100\n",
      "20/20 [==============================] - 20s 1s/step - loss: 1.6146 - accuracy: 0.7500\n",
      "Epoch 62/100\n",
      "20/20 [==============================] - 19s 971ms/step - loss: 0.8031 - accuracy: 0.8625\n",
      "Epoch 63/100\n",
      "20/20 [==============================] - 21s 1s/step - loss: 0.6036 - accuracy: 0.8875\n",
      "Epoch 64/100\n",
      "20/20 [==============================] - 21s 1s/step - loss: 1.8618 - accuracy: 0.7375\n",
      "Epoch 65/100\n",
      "20/20 [==============================] - 21s 1s/step - loss: 0.9633 - accuracy: 0.9250\n",
      "Epoch 66/100\n",
      "20/20 [==============================] - 19s 967ms/step - loss: 1.3519 - accuracy: 0.8625\n",
      "Epoch 67/100\n",
      "20/20 [==============================] - 20s 983ms/step - loss: 1.7783 - accuracy: 0.8125\n",
      "Epoch 68/100\n",
      "20/20 [==============================] - 20s 998ms/step - loss: 1.6316 - accuracy: 0.7500\n",
      "Epoch 69/100\n",
      "20/20 [==============================] - 20s 1s/step - loss: 1.2074 - accuracy: 0.8500\n",
      "Epoch 70/100\n",
      "20/20 [==============================] - 20s 1s/step - loss: 1.4710 - accuracy: 0.7875\n",
      "Epoch 71/100\n",
      "20/20 [==============================] - 21s 1s/step - loss: 1.1692 - accuracy: 0.8250\n",
      "Epoch 72/100\n",
      "20/20 [==============================] - 21s 1s/step - loss: 0.8864 - accuracy: 0.8750\n",
      "Epoch 73/100\n",
      "20/20 [==============================] - 20s 977ms/step - loss: 0.7023 - accuracy: 0.9125\n",
      "Epoch 74/100\n",
      "20/20 [==============================] - 19s 974ms/step - loss: 0.3160 - accuracy: 0.9250\n",
      "Epoch 75/100\n",
      "20/20 [==============================] - 20s 1s/step - loss: 2.7284 - accuracy: 0.8000\n",
      "Epoch 76/100\n",
      "20/20 [==============================] - 21s 1s/step - loss: 1.7051 - accuracy: 0.8250\n",
      "Epoch 77/100\n",
      "20/20 [==============================] - 19s 970ms/step - loss: 1.2529 - accuracy: 0.7750\n",
      "Epoch 78/100\n",
      "20/20 [==============================] - 20s 1s/step - loss: 0.7059 - accuracy: 0.8750\n",
      "Epoch 79/100\n",
      "20/20 [==============================] - 21s 1s/step - loss: 0.3583 - accuracy: 0.9125\n",
      "Epoch 80/100\n",
      "20/20 [==============================] - 21s 1s/step - loss: 0.2235 - accuracy: 0.9375\n",
      "Epoch 81/100\n",
      "20/20 [==============================] - 20s 1s/step - loss: 0.2345 - accuracy: 0.9625\n",
      "Epoch 82/100\n",
      "20/20 [==============================] - 21s 1s/step - loss: 0.5889 - accuracy: 0.9250\n",
      "Epoch 83/100\n",
      "20/20 [==============================] - 20s 979ms/step - loss: 0.1240 - accuracy: 0.9500\n",
      "Epoch 84/100\n",
      "20/20 [==============================] - 21s 1s/step - loss: 0.4107 - accuracy: 0.9375\n",
      "Epoch 85/100\n",
      "20/20 [==============================] - 20s 1000ms/step - loss: 0.4262 - accuracy: 0.9375\n",
      "Epoch 86/100\n",
      "20/20 [==============================] - 22s 1s/step - loss: 0.1744 - accuracy: 0.9625\n",
      "Epoch 87/100\n",
      "20/20 [==============================] - 21s 1s/step - loss: 0.3358 - accuracy: 0.9375\n",
      "Epoch 88/100\n",
      "20/20 [==============================] - 21s 1s/step - loss: 0.3906 - accuracy: 0.9250\n",
      "Epoch 89/100\n",
      "20/20 [==============================] - 19s 976ms/step - loss: 0.4072 - accuracy: 0.9250\n",
      "Epoch 90/100\n",
      "20/20 [==============================] - 21s 1s/step - loss: 0.4022 - accuracy: 0.9375\n",
      "Epoch 91/100\n",
      "20/20 [==============================] - 20s 1s/step - loss: 0.2378 - accuracy: 0.9500\n",
      "Epoch 92/100\n",
      "20/20 [==============================] - 20s 1s/step - loss: 0.3248 - accuracy: 0.9500\n",
      "Epoch 93/100\n",
      "20/20 [==============================] - 19s 946ms/step - loss: 0.2412 - accuracy: 0.9375\n",
      "Epoch 94/100\n",
      "20/20 [==============================] - 19s 924ms/step - loss: 0.4078 - accuracy: 0.9375\n",
      "Epoch 95/100\n",
      "20/20 [==============================] - 19s 943ms/step - loss: 0.3952 - accuracy: 0.8750\n",
      "Epoch 96/100\n",
      "20/20 [==============================] - 18s 926ms/step - loss: 1.3729 - accuracy: 0.8125\n",
      "Epoch 97/100\n",
      "20/20 [==============================] - 19s 932ms/step - loss: 0.2597 - accuracy: 0.9375\n",
      "Epoch 98/100\n",
      "20/20 [==============================] - 19s 956ms/step - loss: 0.6648 - accuracy: 0.9000\n",
      "Epoch 99/100\n",
      "20/20 [==============================] - 20s 993ms/step - loss: 0.5020 - accuracy: 0.9500\n",
      "Epoch 100/100\n",
      "20/20 [==============================] - 19s 928ms/step - loss: 0.6649 - accuracy: 0.9250\n"
     ]
    },
    {
     "data": {
      "text/plain": "<keras.src.callbacks.History at 0x1c72f0ff910>"
     },
     "execution_count": 14,
     "metadata": {},
     "output_type": "execute_result"
    }
   ],
   "source": [
    "model = create_model(input_shape)\n",
    "\n",
    "model.fit(\n",
    "    train_generator,\n",
    "    steps_per_epoch=train_batch,\n",
    "    epochs=epochs,\n",
    "    # validation_steps=valid_batch,\n",
    "    # validation_data=valid_generator,\n",
    "    verbose=1,\n",
    "    # workers=8,\n",
    ")"
   ]
  },
  {
   "cell_type": "code",
   "execution_count": 18,
   "metadata": {
    "ExecuteTime": {
     "end_time": "2023-07-21T08:45:00.429279900Z",
     "start_time": "2023-07-21T08:44:59.484026900Z"
    }
   },
   "outputs": [],
   "source": [
    "MODEL_NAME = \"model_saved_100epochs.h5\"\n",
    "\n",
    "model.save('model/' + MODEL_NAME)"
   ]
  },
  {
   "cell_type": "code",
   "execution_count": 19,
   "metadata": {
    "ExecuteTime": {
     "end_time": "2023-07-21T08:45:05.373812900Z",
     "start_time": "2023-07-21T08:45:05.364580100Z"
    }
   },
   "outputs": [
    {
     "name": "stdout",
     "output_type": "stream",
     "text": [
      "You must install pydot (`pip install pydot`) and install graphviz (see instructions at https://graphviz.gitlab.io/download/) for plot_model to work.\n"
     ]
    }
   ],
   "source": [
    "from keras.utils import plot_model\n",
    "\n",
    "plot_model(model, to_file='test.png')"
   ]
  }
 ],
 "metadata": {
  "kernelspec": {
   "display_name": "base",
   "language": "python",
   "name": "python3"
  },
  "language_info": {
   "codemirror_mode": {
    "name": "ipython",
    "version": 3
   },
   "file_extension": ".py",
   "mimetype": "text/x-python",
   "name": "python",
   "nbconvert_exporter": "python",
   "pygments_lexer": "ipython3",
   "version": "3.9.13"
  },
  "orig_nbformat": 4
 },
 "nbformat": 4,
 "nbformat_minor": 2
}
