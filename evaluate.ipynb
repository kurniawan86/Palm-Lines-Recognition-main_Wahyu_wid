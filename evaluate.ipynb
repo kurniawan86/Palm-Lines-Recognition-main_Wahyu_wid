{
 "cells": [
  {
   "cell_type": "code",
   "execution_count": 77,
   "metadata": {},
   "outputs": [],
   "source": [
    "import pandas as pd\n",
    "import xlsxwriter"
   ]
  },
  {
   "cell_type": "code",
   "execution_count": 78,
   "metadata": {},
   "outputs": [],
   "source": [
    "fileName = \"SanFaizNet\""
   ]
  },
  {
   "cell_type": "code",
   "execution_count": 79,
   "metadata": {},
   "outputs": [],
   "source": [
    "kunci = pd.read_excel('predict/kunci.xlsx')"
   ]
  },
  {
   "cell_type": "code",
   "execution_count": 80,
   "metadata": {},
   "outputs": [],
   "source": [
    "predict = pd.read_excel('predict/' + fileName + '.xlsx')"
   ]
  },
  {
   "cell_type": "code",
   "execution_count": 81,
   "metadata": {},
   "outputs": [
    {
     "data": {
      "text/plain": [
       "0"
      ]
     },
     "execution_count": 81,
     "metadata": {},
     "output_type": "execute_result"
    }
   ],
   "source": [
    "workbook = xlsxwriter.Workbook('koreksi/' + fileName + '-evaluate' + '.xlsx')\n",
    "worksheet = workbook.add_worksheet()\n",
    "\n",
    "worksheet.write(0, 0, 'Filename')\n",
    "worksheet.write(0, 1, 'Label')\n",
    "worksheet.write(0, 2, 'Benar/Salah')"
   ]
  },
  {
   "cell_type": "code",
   "execution_count": 82,
   "metadata": {},
   "outputs": [
    {
     "data": {
      "text/plain": [
       "0"
      ]
     },
     "execution_count": 82,
     "metadata": {},
     "output_type": "execute_result"
    }
   ],
   "source": [
    "correct = 0\n",
    "wrong = 0\n",
    "\n",
    "row = 1\n",
    "\n",
    "for k in kunci.values:\n",
    "    file_kunci = k[2]\n",
    "    label_kunci = k[1]\n",
    "\n",
    "\n",
    "    ix_predict = predict[predict['Filename'] == file_kunci].index.values[0]\n",
    "    label_predict = predict['Label'][ix_predict]\n",
    "    \n",
    "    filename = predict['Filename'][ix_predict]\n",
    "\n",
    "    worksheet.write(row, 0, filename)\n",
    "    worksheet.write(row, 1, label_predict)\n",
    "\n",
    "    if (label_predict == label_kunci):\n",
    "        worksheet.write(row, 2, \"Benar\")\n",
    "        correct += 1\n",
    "    else:\n",
    "        worksheet.write(row, 2, \"Salah\")\n",
    "        wrong += 1\n",
    "\n",
    "    row += 1\n",
    "\n",
    "row += 1\n",
    "worksheet.write(row, 1, 'Jumlah Benar')\n",
    "worksheet.write(row, 2, correct)\n",
    "row += 1\n",
    "worksheet.write(row, 1, 'Jumlah Salah')\n",
    "worksheet.write(row, 2, wrong)\n",
    "\n",
    "row += 1\n",
    "\n",
    "worksheet.write(row, 1, 'Akurasi')\n",
    "acc = str(correct/(correct+wrong) * 100) + \"%\"\n",
    "worksheet.write(row, 2, acc)"
   ]
  },
  {
   "cell_type": "code",
   "execution_count": 83,
   "metadata": {},
   "outputs": [],
   "source": [
    "workbook.close()"
   ]
  }
 ],
 "metadata": {
  "kernelspec": {
   "display_name": "base",
   "language": "python",
   "name": "python3"
  },
  "language_info": {
   "codemirror_mode": {
    "name": "ipython",
    "version": 3
   },
   "file_extension": ".py",
   "mimetype": "text/x-python",
   "name": "python",
   "nbconvert_exporter": "python",
   "pygments_lexer": "ipython3",
   "version": "3.9.13"
  },
  "orig_nbformat": 4
 },
 "nbformat": 4,
 "nbformat_minor": 2
}
